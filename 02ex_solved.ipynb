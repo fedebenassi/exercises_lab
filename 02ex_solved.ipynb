{
 "cells": [
  {
   "cell_type": "markdown",
   "metadata": {},
   "source": [
    "1\\. Write a function that converts number representation (bin<->dec<->hex)"
   ]
  },
  {
   "cell_type": "code",
   "execution_count": 1,
   "metadata": {},
   "outputs": [
    {
     "name": "stdout",
     "output_type": "stream",
     "text": [
      "1160 0x488 010010001000\n"
     ]
    }
   ],
   "source": [
    "def converter(num, option):\n",
    "    if (type(num) == int) or (type(num) == float):\n",
    "        dec = num\n",
    "        hexadecimal = hex(num)\n",
    "        binary = bin(num)\n",
    "        return dec, hexadecimal, binary\n",
    "    if (type(num) == str):\n",
    "        if option == 'bin':\n",
    "            binary = num\n",
    "            dec = int(num, 2)\n",
    "            hexadecimal = hex(dec)\n",
    "            return dec, hexadecimal, binary\n",
    "        if option == 'hex': \n",
    "            hexadecimal = num\n",
    "            dec = int(num, 16)\n",
    "            binary = bin(dec)\n",
    "            return dec, hexadecimal, binary\n",
    "        else:\n",
    "            print('Option not recognized')\n",
    "            \n",
    "    \n",
    "\n",
    "num = '010010001000'\n",
    "d, h, b = converter(num, 'bin')\n",
    "print(d, h, b)\n",
    "\n",
    "        \n",
    "    \n",
    "\n",
    "\n"
   ]
  },
  {
   "cell_type": "markdown",
   "metadata": {},
   "source": [
    "2\\. Write a function that converts a 32 bit word into a single precision floating point (i.e. interprets the various bits as sign, mantissa and exponent)"
   ]
  },
  {
   "cell_type": "code",
   "execution_count": 2,
   "metadata": {},
   "outputs": [
    {
     "name": "stdout",
     "output_type": "stream",
     "text": [
      "3.141592502593994\n"
     ]
    }
   ],
   "source": [
    "def converter2(x):\n",
    "    sign = (-1)**int(x[0])\n",
    "    exponent = 2**(int(x[1:9],2)-127)\n",
    "    mantissa = 1 + sum([int(x[8 + i])*2**(-i) for i in range(1,len(x[9:]))])\n",
    "    return sign*mantissa*exponent\n",
    "    \n",
    "    \n",
    "print(converter2('01000000010010010000111111011011'))\n",
    "         \n"
   ]
  },
  {
   "cell_type": "code",
   "execution_count": null,
   "metadata": {},
   "outputs": [],
   "source": []
  },
  {
   "cell_type": "markdown",
   "metadata": {},
   "source": [
    "3\\. Write a program to determine the underflow and overflow limits (within a factor of 2) for python on your computer. \n",
    "\n",
    "**Tips**: define two variables inizialized to 1 and halve/double them enough time to exceed the under/over-flow limits  "
   ]
  },
  {
   "cell_type": "code",
   "execution_count": 3,
   "metadata": {},
   "outputs": [
    {
     "name": "stdout",
     "output_type": "stream",
     "text": [
      "Underflow limit = 5e-324\n",
      "Overflow limit = 8.98846567431158e+307\n"
     ]
    }
   ],
   "source": [
    "x_min = 1.\n",
    "x_max = 1.\n",
    "\n",
    "while x_min != 0.:\n",
    "    x = x_min\n",
    "    x_min /= 2\n",
    "    \n",
    "print('Underflow limit =', x)\n",
    "\n",
    "while x_max != float('inf'):\n",
    "    x = x_max\n",
    "    x_max *= 2\n",
    "print('Overflow limit =', x)\n"
   ]
  },
  {
   "cell_type": "markdown",
   "metadata": {},
   "source": [
    "4\\. Write a program to determine the machine precision\n",
    "\n",
    "**Tips**: define a new variable by adding a smaller and smaller value (proceeding similarly to prob. 2) to an original variable and check the point where the two are the same "
   ]
  },
  {
   "cell_type": "code",
   "execution_count": 4,
   "metadata": {},
   "outputs": [
    {
     "name": "stdout",
     "output_type": "stream",
     "text": [
      "Machine precision =  2.220446049250313e-16\n"
     ]
    }
   ],
   "source": [
    "eps = 1.\n",
    "x = 1.\n",
    "while (x + eps != x):\n",
    "    e = eps\n",
    "    eps /= 2\n",
    "print('Machine precision = ', e)"
   ]
  },
  {
   "cell_type": "markdown",
   "metadata": {},
   "source": [
    "5\\. Write a function that takes in input three parameters $a$, $b$ and $c$ and prints out the two solutions to the quadratic equation $ax^2+bx+c=0$ using the standard formula:\n",
    "$$\n",
    "x=\\frac{-b\\pm\\sqrt{b^2-4ac}}{2a}\n",
    "$$\n",
    "\n",
    "(a) use the program to compute the solution for $a=0.001$, $b=1000$ and $c=0.001$\n",
    "\n",
    "(b) re-express the standard solution formula by multiplying top and bottom by $-b\\mp\\sqrt{b^2-4ac}$ and again find the solution for $a=0.001$, $b=1000$ and $c=0.001$. How does it compare with what previously obtained? Why?\n",
    "\n",
    "(c) write a function that compute the roots of a quadratic equation accurately in all cases"
   ]
  },
  {
   "cell_type": "code",
   "execution_count": 5,
   "metadata": {},
   "outputs": [
    {
     "name": "stdout",
     "output_type": "stream",
     "text": [
      "(-9.999894245993346e-07, -999999.999999)\n",
      "(-0.001000000000001, -1000010575.5125058)\n",
      "(-999999.999999, -1.000000000001e-06)\n"
     ]
    }
   ],
   "source": [
    "#a\n",
    "def f1(a,b,c):\n",
    "    x1 = 1/(2*a)*(-b + (b**2 - 4*a*c)**0.5)\n",
    "    x2 = 1/(2*a)*(-b - (b**2 - 4*a*c)**0.5)\n",
    "    return x1, x2          \n",
    "\n",
    "print(f1(0.001,1000,0.001))\n",
    "\n",
    "def f2(a,b,c):\n",
    "    x1 =  2*c/(a*(-b - (b**2 - 4*a*c)**0.5))\n",
    "    x2 =  2*c/(a*(-b + (b**2 - 4*a*c)**0.5))\n",
    "    return x1, x2\n",
    "\n",
    "print(f2(0.001, 1000, 0.001))\n",
    "\n",
    "\n",
    "def f3(a,b,c):\n",
    "    x1 = 1/(2*a)*(-b - (b**2 - 4*a*c)**0.5)\n",
    "    x2 = c/(a*x1)\n",
    "    return x1, x2\n",
    "print(f3(0.001, 1000, 0.001))"
   ]
  },
  {
   "cell_type": "markdown",
   "metadata": {},
   "source": [
    "6\\. Write a program that implements the function $f(x)=x(x−1)$\n",
    "\n",
    "(a) Calculate the derivative of the function at the point $x = 1$ using the derivative definition:\n",
    "\n",
    "$$\n",
    "\\frac{{\\rm d}f}{{\\rm d}x} = \\lim_{\\delta\\to0} \\frac{f(x+\\delta)-f(x)}{\\delta}\n",
    "$$\n",
    "\n",
    "with $\\delta = 10^{−2}$. Calculate the true value of the same derivative analytically and compare with the answer your program gives. The two will not agree perfectly. Why not?\n",
    "\n",
    "(b) Repeat the calculation for $\\delta = 10^{−4}, 10^{−6}, 10^{−8}, 10^{−10}, 10^{−12}$ and $10^{−14}$. How does the accuracy scales with $\\delta$?"
   ]
  },
  {
   "cell_type": "code",
   "execution_count": 9,
   "metadata": {},
   "outputs": [
    {
     "name": "stdout",
     "output_type": "stream",
     "text": [
      "[0.010000000000000897, 9.999999988985486e-05, 9.99917733279787e-07, 3.922528746258536e-09, 8.284037100736441e-08, 8.890058334132256e-05, -0.0007992778373491216]\n",
      "-0.0007992778373491216\n"
     ]
    }
   ],
   "source": [
    "def f(x):\n",
    "    return x*(x-1)\n",
    "\n",
    "def fprime(x, delta):\n",
    "    return (f(x+delta)-f(x))/delta\n",
    "\n",
    "derivatives = []\n",
    "accuracy = []\n",
    "delta_array = [1e-02, 1e-04, 1e-06, 1e-08, 1e-10, 1e-12, 1e-14]\n",
    "for delta in delta_array:\n",
    "    derivatives += [fprime(1.,delta)]\n",
    "    accuracy += [fprime(1.,delta) - 1.]\n",
    "    \n",
    "print(accuracy)\n",
    "print(min(accuracy))\n"
   ]
  },
  {
   "cell_type": "markdown",
   "metadata": {},
   "source": [
    "The minimum accuracy is for $\\delta$ = $10^{-8}$"
   ]
  },
  {
   "cell_type": "markdown",
   "metadata": {},
   "source": [
    "7\\. Consider the integral of the semicircle of radius 1:\n",
    "$$\n",
    "I=\\int_{-1}^{1} \\sqrt(1-x^2) {\\rm d}x\n",
    "$$\n",
    "which it's known to be $I=\\frac{\\pi}{2}=1.57079632679...$.\n",
    "Alternatively we can use the Riemann definition of the integral:\n",
    "$$\n",
    "I=\\lim_{N\\to\\infty} \\sum_{k=1}^{N} h y_k \n",
    "$$\n",
    "\n",
    "with $h=2/N$ the width of each of the $N$ slices the domain is divided into and where\n",
    "$y_k$ is the value of the function at the $k-$th slice.\n",
    "\n",
    "(a) Write a programe to compute the integral with $N=100$. How does the result compares to the true value?\n",
    "\n",
    "(b) How much can $N$ be increased if the computation needs to be run in less than a second? What is the gain in running it for 1 minute? \n"
   ]
  },
  {
   "cell_type": "code",
   "execution_count": 7,
   "metadata": {},
   "outputs": [
    {
     "name": "stdout",
     "output_type": "stream",
     "text": [
      "Difference between real value and computed value for N = 1000000 : -1.6582726303226991e-09\n"
     ]
    }
   ],
   "source": [
    "import time\n",
    "\n",
    "\n",
    "def f(x):\n",
    "    return (1 - x*x)**0.5\n",
    "tic = time.time()\n",
    "def integral(N,func):\n",
    "    h = 2./N\n",
    "    k = -1.\n",
    "    x = 0.\n",
    "    for i in range(N):\n",
    "        x += h*f(k +h*i)\n",
    "        toc = time.time()\n",
    "        if toc - tic > 1.:\n",
    "            print('Time (1 second) elapsed at iteration number =', i)\n",
    "            break\n",
    "            \n",
    "    return x\n",
    "\n",
    "true_int = 1.57079632679\n",
    "N = 1000000\n",
    "print('Difference between real value and computed value for N =', N, ':', integral(N, f) - true_int)\n",
    "\n",
    "        "
   ]
  },
  {
   "cell_type": "markdown",
   "metadata": {},
   "source": [
    "N can be increased up to $2 \\times 10^{6}$. Running the code up to one minute would mean a high N and a decrease of precision due to the finite machine precision."
   ]
  },
  {
   "cell_type": "code",
   "execution_count": null,
   "metadata": {},
   "outputs": [],
   "source": []
  }
 ],
 "metadata": {
  "kernelspec": {
   "display_name": "Python 3",
   "language": "python",
   "name": "python3"
  },
  "language_info": {
   "codemirror_mode": {
    "name": "ipython",
    "version": 3
   },
   "file_extension": ".py",
   "mimetype": "text/x-python",
   "name": "python",
   "nbconvert_exporter": "python",
   "pygments_lexer": "ipython3",
   "version": "3.8.3"
  }
 },
 "nbformat": 4,
 "nbformat_minor": 2
}
