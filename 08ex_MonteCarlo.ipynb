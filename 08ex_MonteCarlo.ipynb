{
 "cells": [
  {
   "cell_type": "code",
   "execution_count": 2,
   "metadata": {},
   "outputs": [],
   "source": [
    "import numpy as np\n",
    "import matplotlib.pyplot as plt"
   ]
  },
  {
   "cell_type": "markdown",
   "metadata": {},
   "source": [
    "1\\. **Radioactive decay chain**\n",
    "\n",
    "${\\rm Tl}^{208}$ decays to ${\\rm Pb}^{208}$ with a half-lieve of 3.052 minutes. Suppose to start with a sample of 1000 Thallium atoms and 0 of Lead atoms.\n",
    "\n",
    "* Take steps in time of 1 second and at each time-step decide whether each Tl atom has decayed or not, accordingly to the probability $p(t)=1-2^{-t/\\tau}$. Subtract the total number of Tl atoms that decayed at each step from the Tl sample and add them to the Lead one. Plot the evolution of the two sets as a function of time  \n",
    "* Repeat the exercise by means of the inverse transform method: draw 1000 random numbers from the non-uniform probability distribution $p(t)=2^{-t/\\tau}\\frac{\\ln 2}{\\tau}$ to represent the times of decay of the 1000 Tl atoms. Make a plot showing the number of atoms that have not decayed as a function of time"
   ]
  },
  {
   "cell_type": "code",
   "execution_count": 3,
   "metadata": {},
   "outputs": [],
   "source": [
    "def prob(t):\n",
    "    return 1 - 2**(-t/(3.052*60))\n",
    "\n",
    "Ti_counter = 1000\n",
    "Pb_counter = 0\n",
    "\n",
    "Ti_N = []\n",
    "Pb_N = []\n",
    "\n",
    "step = 1\n",
    "time = np.arange(0, 10*60, step)\n",
    "\n",
    "for t in time:\n",
    "    for i in np.arange(0, Ti_counter):\n",
    "        p = prob(step)\n",
    "        decay = np.random.random()\n",
    "        if decay < p:\n",
    "            Ti_counter -= 1\n",
    "            Pb_counter += 1\n",
    "    Ti_N += [Ti_counter]\n",
    "    Pb_N += [Pb_counter]"
   ]
  },
  {
   "cell_type": "code",
   "execution_count": 4,
   "metadata": {},
   "outputs": [
    {
     "data": {
      "text/plain": [
       "<matplotlib.legend.Legend at 0x2df89836f70>"
      ]
     },
     "execution_count": 4,
     "metadata": {},
     "output_type": "execute_result"
    },
    {
     "data": {
      "image/png": "[encoded data removed]",
      "text/plain": [
       "<Figure size 432x288 with 1 Axes>"
      ]
     },
     "metadata": {
      "needs_background": "light"
     },
     "output_type": "display_data"
    }
   ],
   "source": [
    "plt.figure()\n",
    "plt.plot(time, Ti_N, label = 'Thallium')\n",
    "plt.plot(time, Pb_N, label = 'Lead')\n",
    "plt.xlabel('Time steps (s)')\n",
    "plt.ylabel('Number')\n",
    "plt.legend()"
   ]
  },
  {
   "cell_type": "code",
   "execution_count": 5,
   "metadata": {},
   "outputs": [
    {
     "data": {
      "text/plain": [
       "Text(0.5, 0, 'Time (s)')"
      ]
     },
     "execution_count": 5,
     "metadata": {},
     "output_type": "execute_result"
    },
    {
     "data": {
      "image/png": "[encoded data removed]",
      "text/plain": [
       "<Figure size 432x288 with 1 Axes>"
      ]
     },
     "metadata": {
      "needs_background": "light"
     },
     "output_type": "display_data"
    }
   ],
   "source": [
    "def inverse(z):\n",
    "    return -3.052*60/np.log(2)*np.log(1-z)\n",
    "\n",
    "time = 60*10\n",
    "time_steps = np.arange(0,time,1)\n",
    "\n",
    "Ti_N = 1000\n",
    "Pb_N = 0\n",
    "\n",
    "Ti_counter = []\n",
    "Pb_counter = []\n",
    "\n",
    "\n",
    "for n in range(0, Ti_N):\n",
    "    t = inverse(np.random.uniform(0,1))    \n",
    "    Ti_counter.append(t)\n",
    "\n",
    "Ti_counter = np.sort(np.array(Ti_counter))\n",
    "\n",
    "\n",
    "plt.figure()\n",
    "plt.plot(Ti_counter, np.arange(Ti_N, 0, -1))\n",
    "plt.ylabel('Number')\n",
    "plt.xlabel('Time (s)')\n"
   ]
  },
  {
   "cell_type": "markdown",
   "metadata": {},
   "source": [
    "2\\. **Rutherford Scattering**\n",
    "\n",
    "The scattering angle $\\theta$ of $\\alpha$ particles hitting a positively charged nucleus of a Gold atom ($Z=79$) follows the rule:\n",
    "\n",
    "$$\n",
    "\\tan{\\frac{1}{2} \\theta} = \\frac{Z e^2} {2\\pi \\epsilon_0 E b}\n",
    "$$\n",
    "\n",
    "where $E=7.7$ MeV and $b$ beam is the impact parameter. The beam is represented by a 2D gaussian distribution with $\\sigma=a_0/100$ for both coordinates ($a_0$ being the Bohr radius). Assume 1 million $\\alpha$ particles are shot on the gold atom.\n",
    "\n",
    "Computing the fraction of particles that \"bounce back\",i.e. those particle whose scattering angle is greater than $\\pi/2$ (which set a condition on the impact parameter $b$)"
   ]
  },
  {
   "cell_type": "code",
   "execution_count": 10,
   "metadata": {},
   "outputs": [],
   "source": [
    "import scipy.constants\n",
    "\n",
    "e = scipy.constants.e\n",
    "pi = scipy.constants.pi\n",
    "a0 = scipy.constants.physical_constants['Bohr radius'][0]\n",
    "epsilon_zero = scipy.constants.epsilon_0\n",
    "\n",
    "Z = 79\n",
    "\n",
    "E = 7.7*10**6*e\n",
    "\n",
    "N = 10**6\n",
    "\n",
    "sigma = a0/100\n",
    "mean = [0,0]\n",
    "\n",
    "def gauss_gen(x, y, stdx, stdy, N):\n",
    "    r = np.random.normal(loc = x, scale = stdx, size = N)\n",
    "    s = np.random.normal(loc = y, scale = stdy, size = N)\n",
    "    return r,s\n",
    "\n",
    "def b(x,y):\n",
    "    return np.sqrt(x**2 + y**2)\n",
    "\n",
    "particles = np.zeros((N,2))\n",
    "particles[:,0], particles[:,1] = gauss_gen(0,0, sigma, sigma, N)\n",
    "\n",
    "counter = 0\n",
    "for x,y in zip(particles[:,0], particles[:,1]):\n",
    "    tan = Z*e**2/(2*pi*epsilon_zero*E*b(x,y))\n",
    "    if tan > 1:\n",
    "        counter += 1"
   ]
  },
  {
   "cell_type": "code",
   "execution_count": 12,
   "metadata": {},
   "outputs": [
    {
     "name": "stdout",
     "output_type": "stream",
     "text": [
      "1573\n"
     ]
    }
   ],
   "source": [
    "print(counter)"
   ]
  },
  {
   "cell_type": "markdown",
   "metadata": {},
   "source": [
    "3\\. **Monte Carlo integration: hit/miss vs mean value method**\n",
    "\n",
    "Consider the function \n",
    "\n",
    "$$f(x) =\\sin^2{\\frac{1}{x(2-x)}}$$\n",
    "\n",
    "* Compute the integral of $f(x)$ between 0 and 2 with the hit/miss method. Evaluate the error of your estimate\n",
    "* Repeat the integral with the mean value method. Evaluate the error and compare it with the previous one"
   ]
  },
  {
   "cell_type": "code",
   "execution_count": 14,
   "metadata": {},
   "outputs": [
    {
     "name": "stderr",
     "output_type": "stream",
     "text": [
      "<ipython-input-14-4bcc3839b06e>:4: RuntimeWarning: divide by zero encountered in true_divide\n",
      "  return (np.sin(1/(x*(2-x))))**2\n",
      "<ipython-input-14-4bcc3839b06e>:4: RuntimeWarning: invalid value encountered in sin\n",
      "  return (np.sin(1/(x*(2-x))))**2\n"
     ]
    },
    {
     "data": {
      "text/plain": [
       "[<matplotlib.lines.Line2D at 0x2df87c9cca0>]"
      ]
     },
     "execution_count": 14,
     "metadata": {},
     "output_type": "execute_result"
    },
    {
     "data": {
      "image/png": "[encoded data removed]",
      "text/plain": [
       "<Figure size 432x288 with 1 Axes>"
      ]
     },
     "metadata": {
      "needs_background": "light"
     },
     "output_type": "display_data"
    }
   ],
   "source": [
    "N = 10**5\n",
    "\n",
    "def f(x):\n",
    "    return (np.sin(1/(x*(2-x))))**2\n",
    "\n",
    "x = np.linspace(0,2,10**3)\n",
    "\n",
    "plt.figure()\n",
    "plt.plot(x,f(x))"
   ]
  },
  {
   "cell_type": "code",
   "execution_count": 44,
   "metadata": {},
   "outputs": [],
   "source": [
    "n_trials = 50\n",
    "area = []\n",
    "\n",
    "for i in range(n_trials):\n",
    "    counter = 0\n",
    "    for i in range(N):\n",
    "        y = np.random.random()\n",
    "        x = 2*np.random.random() #it has to be in range (0,2)\n",
    "        if y < f(x): \n",
    "            counter += 1\n",
    "    area += [2*counter/N]\n",
    "        \n",
    "I_hm = np.mean(area)\n",
    "error = np.std(area)"
   ]
  },
  {
   "cell_type": "code",
   "execution_count": 45,
   "metadata": {},
   "outputs": [
    {
     "name": "stdout",
     "output_type": "stream",
     "text": [
      "1.4512488 0.0030723936206157013\n"
     ]
    }
   ],
   "source": [
    "print(I_hm, error)"
   ]
  },
  {
   "cell_type": "code",
   "execution_count": 48,
   "metadata": {},
   "outputs": [],
   "source": [
    "x = np.random.uniform(0,2,N)\n",
    "fx = f(x)\n",
    "\n",
    "I_mean = 2/N*np.sum(f(x))\n",
    "\n",
    "error = 2/N*np.std(fx) "
   ]
  },
  {
   "cell_type": "code",
   "execution_count": 49,
   "metadata": {},
   "outputs": [
    {
     "name": "stdout",
     "output_type": "stream",
     "text": [
      "1.4500279965164988 5.276683455572489e-06\n"
     ]
    }
   ],
   "source": [
    "print(I_mean, error)"
   ]
  },
  {
   "cell_type": "markdown",
   "metadata": {},
   "source": [
    "The calculation with the mean method underestimates the integral, with a much smaller std."
   ]
  },
  {
   "cell_type": "markdown",
   "metadata": {},
   "source": [
    "4\\. **Monte Carlo integration in high dimension**\n",
    "\n",
    "* Start of by computing the area of a circle of unit radius, by integrating the function \n",
    "\n",
    "$$\n",
    "f(x,y)=\n",
    "\\left\\{\n",
    "\\begin{array}{ll}\n",
    "      1 & x^2+y^2\\le 1 \\\\\n",
    "      0 & {\\rm elsewhere}\n",
    "\\end{array} \n",
    "\\right.\n",
    "$$\n",
    "\n",
    "* Generalize the result for a 10D sphere\n",
    "\n"
   ]
  },
  {
   "cell_type": "code",
   "execution_count": 60,
   "metadata": {},
   "outputs": [
    {
     "name": "stdout",
     "output_type": "stream",
     "text": [
      "3.1409200000000004\n"
     ]
    }
   ],
   "source": [
    "N = 10**5\n",
    "\n",
    "def f(x,y):\n",
    "    if x**2 + y**2 <= 1:\n",
    "        return 1\n",
    "    else:\n",
    "        return 0\n",
    "    \n",
    "x = np.random.uniform(-1,1,N)\n",
    "y = np.random.uniform(-1,1,N)\n",
    "\n",
    "\n",
    "I = 4/N*np.sum([f(i,j) for i,j in zip(x,y)])\n",
    "print(I)"
   ]
  },
  {
   "cell_type": "code",
   "execution_count": 66,
   "metadata": {},
   "outputs": [
    {
     "name": "stdout",
     "output_type": "stream",
     "text": [
      "2.56\n"
     ]
    }
   ],
   "source": [
    "def f_D(dimension):\n",
    "    z = 0\n",
    "    for x in dimension:\n",
    "        z += x**2\n",
    "    if z <= 1:\n",
    "        return 1\n",
    "    else:\n",
    "        return 0\n",
    "    \n",
    "D = 10\n",
    "dimensions = np.random.uniform(-1, 1, (N, D))\n",
    "\n",
    "\n",
    "I = 2**D/N*np.sum([f_D(dimensions[i,:]) for i in range(0,N)])\n",
    "print(I)      "
   ]
  },
  {
   "cell_type": "markdown",
   "metadata": {},
   "source": [
    "The exact value for the hypersphere is about 2.55"
   ]
  },
  {
   "cell_type": "markdown",
   "metadata": {},
   "source": [
    "5\\. **Monte Carlo integration with importance sampling** \n",
    "\n",
    "Calculate the value of the integral:\n",
    "\n",
    "$$\n",
    "I=\\int_0^1 \\frac{x^{-1/2}}{e^x+1} dx\n",
    "$$\n",
    "\n",
    "using the importance sampling method with $w(x)=1/\\sqrt{x}$. You should get a result about 0.84"
   ]
  },
  {
   "cell_type": "code",
   "execution_count": 81,
   "metadata": {},
   "outputs": [
    {
     "name": "stdout",
     "output_type": "stream",
     "text": [
      "0.8392217640095609\n"
     ]
    }
   ],
   "source": [
    "N = 10**5\n",
    "\n",
    "def f(x):\n",
    "    return np.power(x,-0.5)/(np.exp(x) + 1)\n",
    "\n",
    "z = np.random.uniform(0,2,N)#initial random distribution: if x = z**2/4 and x is in [0,1], then z is in [0,2]\n",
    "\n",
    "x = z**2/4\n",
    "\n",
    "intsum = [f(i)*np.sqrt(i) for i in x]\n",
    "\n",
    "I = 1/N*np.sum(intsum)*2\n",
    "\n",
    "\n",
    "print(I)\n"
   ]
  },
  {
   "cell_type": "code",
   "execution_count": null,
   "metadata": {},
   "outputs": [],
   "source": []
  }
 ],
 "metadata": {
  "kernelspec": {
   "display_name": "Python 3",
   "language": "python",
   "name": "python3"
  },
  "language_info": {
   "codemirror_mode": {
    "name": "ipython",
    "version": 3
   },
   "file_extension": ".py",
   "mimetype": "text/x-python",
   "name": "python",
   "nbconvert_exporter": "python",
   "pygments_lexer": "ipython3",
   "version": "3.8.5"
  },
  "varInspector": {
   "cols": {
    "lenName": 16,
    "lenType": 16,
    "lenVar": 40
   },
   "kernels_config": {
    "python": {
     "delete_cmd_postfix": "",
     "delete_cmd_prefix": "del ",
     "library": "var_list.py",
     "varRefreshCmd": "print(var_dic_list())"
    },
    "r": {
     "delete_cmd_postfix": ") ",
     "delete_cmd_prefix": "rm(",
     "library": "var_list.r",
     "varRefreshCmd": "cat(var_dic_list()) "
    }
   },
   "types_to_exclude": [
    "module",
    "function",
    "builtin_function_or_method",
    "instance",
    "_Feature"
   ],
   "window_display": false
  }
 },
 "nbformat": 4,
 "nbformat_minor": 2
}
