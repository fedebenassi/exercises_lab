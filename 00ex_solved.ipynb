{
 "cells": [
  {
   "cell_type": "markdown",
   "metadata": {},
   "source": [
    "1. The MickeyMouse problem\n",
    "\n",
    "a) Write a program that prints the numbers from 1 to 100. But for multiples of three print Mickey instead of the number and for the multiples of five print Mouse. For numbers which are multiples of both three and five print MickeyMouse\n",
    "\n",
    "b) Put the result in a tuple and substitute Mickey with Donald and Mouse with Duck"
   ]
  },
  {
   "cell_type": "code",
   "execution_count": 16,
   "metadata": {},
   "outputs": [
    {
     "name": "stdout",
     "output_type": "stream",
     "text": [
      "1\n",
      "2\n",
      "Mickey\n",
      "4\n",
      "Mouse\n",
      "Mickey\n",
      "7\n",
      "8\n",
      "Mickey\n",
      "Mouse\n",
      "11\n",
      "Mickey\n",
      "13\n",
      "14\n",
      "MickeyMouse\n",
      "16\n",
      "17\n",
      "Mickey\n",
      "19\n",
      "Mouse\n",
      "Mickey\n",
      "22\n",
      "23\n",
      "Mickey\n",
      "Mouse\n",
      "26\n",
      "Mickey\n",
      "28\n",
      "29\n",
      "MickeyMouse\n",
      "31\n",
      "32\n",
      "Mickey\n",
      "34\n",
      "Mouse\n",
      "Mickey\n",
      "37\n",
      "38\n",
      "Mickey\n",
      "Mouse\n",
      "41\n",
      "Mickey\n",
      "43\n",
      "44\n",
      "MickeyMouse\n",
      "46\n",
      "47\n",
      "Mickey\n",
      "49\n",
      "Mouse\n",
      "Mickey\n",
      "52\n",
      "53\n",
      "Mickey\n",
      "Mouse\n",
      "56\n",
      "Mickey\n",
      "58\n",
      "59\n",
      "MickeyMouse\n",
      "61\n",
      "62\n",
      "Mickey\n",
      "64\n",
      "Mouse\n",
      "Mickey\n",
      "67\n",
      "68\n",
      "Mickey\n",
      "Mouse\n",
      "71\n",
      "Mickey\n",
      "73\n",
      "74\n",
      "MickeyMouse\n",
      "76\n",
      "77\n",
      "Mickey\n",
      "79\n",
      "Mouse\n",
      "Mickey\n",
      "82\n",
      "83\n",
      "Mickey\n",
      "Mouse\n",
      "86\n",
      "Mickey\n",
      "88\n",
      "89\n",
      "MickeyMouse\n",
      "91\n",
      "92\n",
      "Mickey\n",
      "94\n",
      "Mouse\n",
      "Mickey\n",
      "97\n",
      "98\n",
      "Mickey\n",
      "Mouse\n"
     ]
    }
   ],
   "source": [
    "stat1 = 'Mickey'\n",
    "stat2 = 'Mouse'\n",
    "result = []\n",
    "for i in range(1,101):\n",
    "    if (i%3==0 and i%5==0):\n",
    "        x = stat1+stat2\n",
    "        result.append(x)\n",
    "        print(x)    \n",
    "    elif (i%3==0):\n",
    "        print(stat1)\n",
    "        result.append(stat1)\n",
    "    elif (i%5==0):\n",
    "        print(stat2)\n",
    "        result.append(stat2)\n",
    "    else:\n",
    "        print(i)\n",
    "        result.append(i)\n",
    "\n",
    "#Put the result in the tuple\n",
    "mickey = tuple(result)\n",
    "\n",
    "#Substitute 'Mickey Mouse' with 'Donald Duck'\n",
    "\n",
    "for i in range(0,len(result)):\n",
    "    if result[i]=='Mickey':\n",
    "        result[i] = 'Donald'\n",
    "    if result[i]=='Mouse':\n",
    "        result[i] = 'Duck'\n",
    "    if result[i] == 'MickeyMouse':\n",
    "        result[i] = 'DonaldDuck'\n",
    "\n",
    "donald = tuple(result)  \n"
   ]
  },
  {
   "cell_type": "markdown",
   "metadata": {},
   "source": [
    "2\\. The swap function\n",
    "\n",
    "Write a function that swap the values of two input variables x and y (whatever the type). Try to do that also without a temporary variable"
   ]
  },
  {
   "cell_type": "code",
   "execution_count": 37,
   "metadata": {},
   "outputs": [
    {
     "name": "stdout",
     "output_type": "stream",
     "text": [
      "Variable x:ee\n",
      "Variable y:4\n",
      "('4', 'ee')\n",
      "('4', 'ee')\n"
     ]
    }
   ],
   "source": [
    "x = input('Variable x:')\n",
    "y = input('Variable y:')\n",
    "\n",
    "#With a temporary variable\n",
    "\n",
    "def swap(x,y):\n",
    "    c = x\n",
    "    x = y\n",
    "    y = c\n",
    "    return x, y\n",
    "print(swap(x,y))\n",
    "\n",
    "#Without a temporary variable\n",
    "\n",
    "def swap2(x,y):\n",
    "    x, y = y, x\n",
    "    return x, y\n",
    "print(swap2(x,y))"
   ]
  },
  {
   "cell_type": "markdown",
   "metadata": {},
   "source": [
    "3\\. Computing the distance\n",
    "\n",
    "Write a function that calculates and returns the euclidean distance between two points *u* and *v*, where *u* and *v* are both 2-tuples *(x,y)*. For example, if *u=(3,0)* and *v=(0,4)*, the function should return 5"
   ]
  },
  {
   "cell_type": "code",
   "execution_count": 27,
   "metadata": {},
   "outputs": [
    {
     "name": "stdout",
     "output_type": "stream",
     "text": [
      "5.0\n"
     ]
    }
   ],
   "source": [
    "u = (3,0)\n",
    "v = (0,4)\n",
    "\n",
    "def eudist(u,v):\n",
    "    return ((u[0]-v[0])**2 + (u[1]-v[1])**2)**0.5\n",
    "print(eudist(u,v))"
   ]
  },
  {
   "cell_type": "markdown",
   "metadata": {},
   "source": [
    "4\\. Counting letters\n",
    "\n",
    "Write a program to calculate the number of times each character occurs in a given string *s*. Ignore differneces in capitalization"
   ]
  },
  {
   "cell_type": "code",
   "execution_count": 42,
   "metadata": {},
   "outputs": [
    {
     "name": "stdout",
     "output_type": "stream",
     "text": [
      "Character w repeats for 2 times\n",
      "Character r repeats for 17 times\n",
      "Character i repeats for 14 times\n",
      "Character t repeats for 19 times\n",
      "Character e repeats for 22 times\n",
      "Character   repeats for 41 times\n",
      "Character a repeats for 7 times\n",
      "Character p repeats for 8 times\n",
      "Character o repeats for 13 times\n",
      "Character g repeats for 1 times\n",
      "Character m repeats for 12 times\n",
      "Character h repeats for 9 times\n",
      "Character n repeats for 10 times\n",
      "Character s repeats for 9 times\n",
      "Character u repeats for 9 times\n",
      "Character b repeats for 5 times\n",
      "Character f repeats for 10 times\n",
      "Character 1 repeats for 2 times\n",
      "Character 0 repeats for 2 times\n",
      "Character . repeats for 2 times\n",
      "Character l repeats for 6 times\n",
      "Character c repeats for 3 times\n",
      "Character k repeats for 2 times\n",
      "Character y repeats for 2 times\n",
      "Character d repeats for 3 times\n",
      "Character v repeats for 2 times\n"
     ]
    }
   ],
   "source": [
    "s=\"Write a program that prints the numbers from 1 to 100. \\\n",
    "But for multiples of three print Mickey instead of the number and for the multiples of five print Mouse. \\\n",
    "For numbers which are multiples of both three and five print MickeyMouse\"\n",
    "\n",
    "s = s.lower()\n",
    "characters = [x for x in s]\n",
    "\n",
    "for i in range(len(characters)):\n",
    "    if (i == s.find(characters[i])):\n",
    "        print('Character', characters[i], 'repeats for', s.count(characters[i]), 'times')"
   ]
  },
  {
   "cell_type": "markdown",
   "metadata": {},
   "source": [
    "5\\. Isolating the unique\n",
    "\n",
    "Write a function that determines and count the unique numbers in the list *l*"
   ]
  },
  {
   "cell_type": "code",
   "execution_count": 17,
   "metadata": {},
   "outputs": [
    {
     "name": "stdout",
     "output_type": "stream",
     "text": [
      "(58, 74, 96, 64, 10, 24, 19, 33, 86, 99, 18, 47, 88, 55, 54, 8, 79, 81, 57, 37, 1, 9, 95, 90, 98, 39, 16, 82, 92, 41, 30, 94, 5, 72, 87, 75, 53)\n",
      "Total number of unique members = 37\n"
     ]
    }
   ],
   "source": [
    "l = [36, 45, 58, 3, 74, 96, 64, 45, 31, 10, 24, 19, 33, 86, 99, 18, 63, 70, 85,\n",
    " 85, 63, 47, 56, 42, 70, 84, 88, 55, 20, 54, 8, 56, 51, 79, 81, 57, 37, 91,\n",
    " 1, 84, 84, 36, 66, 9, 89, 50, 42, 91, 50, 95, 90, 98, 39, 16, 82, 31, 92, 41,\n",
    " 45, 30, 66, 70, 34, 85, 94, 5, 3, 36, 72, 91, 84, 34, 87, 75, 53, 51, 20, 89, 51, 20]\n",
    "\n",
    "def counter(l):\n",
    "    unique = ()\n",
    "    n=0\n",
    "    for i in range(0, len(l)):\n",
    "        if (l.count(l[i]) == 1):\n",
    "            #Creates a tuple of all the unique members\n",
    "            unique += (l[i],)\n",
    "            n +=1\n",
    "    return unique, n\n",
    "\n",
    "un, num = counter(l)\n",
    "\n",
    "print(un)\n",
    "print('Total number of unique members =', num)\n",
    "    "
   ]
  },
  {
   "cell_type": "markdown",
   "metadata": {},
   "source": [
    "6\\. Combination of functions\n",
    "\n",
    "Write two functions - one that returns the square of a number, and one that returns the cube. Now write a third function that returns the number raised to the 6th power using the two previous functions."
   ]
  },
  {
   "cell_type": "code",
   "execution_count": 18,
   "metadata": {},
   "outputs": [],
   "source": [
    "\n",
    "def square(x):\n",
    "    return x**2\n",
    "\n",
    "def cube(x):\n",
    "    return x**3\n",
    "\n",
    "def sixth(x):\n",
    "    s = square(x)*cube(x)\n",
    "    print(s)\n"
   ]
  },
  {
   "cell_type": "markdown",
   "metadata": {},
   "source": [
    "7\\. Cubes\n",
    "\n",
    "Create a list of the cubes of x for x in *[0, 10]* using:\n",
    "\n",
    "a) a for loop\n",
    "\n",
    "b) a list comprehension"
   ]
  },
  {
   "cell_type": "code",
   "execution_count": 48,
   "metadata": {},
   "outputs": [
    {
     "name": "stdout",
     "output_type": "stream",
     "text": [
      "[0, 1, 8, 27, 64, 125, 216, 343, 512, 729, 1000]\n",
      "[0, 1, 8, 27, 64, 125, 216, 343, 512, 729, 1000]\n"
     ]
    }
   ],
   "source": [
    "x = []\n",
    "for i in range(0,11):\n",
    "    x.append(i**3)\n",
    "print(x)\n",
    "\n",
    "cube = [x**3 for x in range(11)]\n",
    "print(cube)"
   ]
  },
  {
   "cell_type": "markdown",
   "metadata": {},
   "source": [
    "8\\. Nested list comprehension\n",
    "\n",
    "A Pythagorean triple is an integer solution to the Pythagorean theorem $a^2+b^2=c^2$. The first Pythagorean triple is (3,4,5). Find and put in a tuple all unique Pythagorean triples for the positive integers a, b and c less than 100."
   ]
  },
  {
   "cell_type": "code",
   "execution_count": 3,
   "metadata": {},
   "outputs": [
    {
     "name": "stdout",
     "output_type": "stream",
     "text": [
      "((5, 4, 3), (10, 8, 6), (13, 12, 5), (15, 12, 9), (17, 15, 8), (20, 16, 12), (25, 20, 15), (25, 24, 7), (26, 24, 10), (29, 21, 20), (30, 24, 18), (34, 30, 16), (35, 28, 21), (37, 35, 12), (39, 36, 15), (40, 32, 24), (41, 40, 9), (45, 36, 27), (50, 40, 30), (50, 48, 14), (51, 45, 24), (52, 48, 20), (53, 45, 28), (55, 44, 33), (58, 42, 40), (60, 48, 36), (61, 60, 11), (65, 52, 39), (65, 56, 33), (65, 60, 25), (65, 63, 16), (68, 60, 32), (70, 56, 42), (73, 55, 48), (74, 70, 24), (75, 60, 45), (75, 72, 21), (78, 72, 30), (80, 64, 48), (82, 80, 18), (85, 68, 51), (85, 75, 40), (85, 77, 36), (85, 84, 13), (87, 63, 60), (89, 80, 39), (90, 72, 54), (91, 84, 35), (95, 76, 57), (97, 72, 65))\n"
     ]
    }
   ],
   "source": [
    "triples = ()\n",
    "for a in range(0,100):\n",
    "    for b in range(0,a):\n",
    "        for c in range(0,b):\n",
    "            if(b**2 + c**2 == a**2):\n",
    "                t = (a,b,c)\n",
    "                triples+=(t,)\n",
    "print(triples)"
   ]
  },
  {
   "cell_type": "markdown",
   "metadata": {},
   "source": [
    "9\\. Normalization\n",
    "\n",
    "Write a function that takes a tuple of numbers and returns it with the entries normalized to one"
   ]
  },
  {
   "cell_type": "code",
   "execution_count": 50,
   "metadata": {},
   "outputs": [
    {
     "name": "stdout",
     "output_type": "stream",
     "text": [
      "(0.4195906791483446, 0.5035088149780135, 0.7552632224670202)\n"
     ]
    }
   ],
   "source": [
    "a = (5, 6, 9)\n",
    "def normalize(a):\n",
    "    x, y, z = a\n",
    "    n = (x*x + y*y + z*z)**0.5\n",
    "    return (x/n, y/n, z/n)\n",
    "print(normalize(a))"
   ]
  },
  {
   "cell_type": "code",
   "execution_count": null,
   "metadata": {},
   "outputs": [],
   "source": []
  }
 ],
 "metadata": {
  "kernelspec": {
   "display_name": "Python 3",
   "language": "python",
   "name": "python3"
  },
  "language_info": {
   "codemirror_mode": {
    "name": "ipython",
    "version": 3
   },
   "file_extension": ".py",
   "mimetype": "text/x-python",
   "name": "python",
   "nbconvert_exporter": "python",
   "pygments_lexer": "ipython3",
   "version": "3.8.3"
  }
 },
 "nbformat": 4,
 "nbformat_minor": 2
}
